{
 "cells": [
  {
   "cell_type": "code",
   "execution_count": 3,
   "metadata": {},
   "outputs": [
    {
     "name": "stdout",
     "output_type": "stream",
     "text": [
      "qqq xxxde QQr abzzzX\n"
     ]
    }
   ],
   "source": [
    "pl = { \"abc\": \"xxx\", \"cde\": \"yyy\", \"rr\": \"QQ\", \"cdefgh\": \"zzz\", \"z\" : \"X\"}\n",
    "src = \"qqq abcde rrr abcdefghz\"\n",
    "\n",
    "lenmax = max([len(i) for i in pl])\n",
    "\n",
    "s = src\n",
    "for j in range(lenmax, 0, -1):\n",
    "    for i in range(0, len(src)-j+1):\n",
    "        word = s[i:i+j]\n",
    "        if word in pl:\n",
    "            src = src[:i] + pl[word] + src[i+j:]\n",
    "            s = s[:i] + '*'*len(pl[word]) + s[i+j:]\n",
    "\n",
    "print(src)"
   ]
  },
  {
   "cell_type": "code",
   "execution_count": 2,
   "metadata": {},
   "outputs": [],
   "source": [
    "def sub_longest(dic, string):\n",
    "    lenmax = max([len(i) for i in dic])\n",
    "    s = string\n",
    "    \n",
    "    for j in range(lenmax, 0, -1):\n",
    "        for i in range(len(string)-j+1):\n",
    "            word = s[i:i+j]\n",
    "            if word in dic:\n",
    "                string = string[:i] + dic[word] + string[i+j:]\n",
    "                s = s[:i] + \"*\"*len(dic[word]) + s[i+j:]\n",
    "                \n",
    "    return string"
   ]
  },
  {
   "cell_type": "code",
   "execution_count": 3,
   "metadata": {},
   "outputs": [
    {
     "data": {
      "text/plain": [
       "'메타버스 안의 사람들은lol 유니버스짜장을 먹으며:) 메타버스를 시청했다.:)lol'"
      ]
     },
     "execution_count": 3,
     "metadata": {},
     "output_type": "execute_result"
    }
   ],
   "source": [
    "a = {\"유니버스\" : \"메타버스\", \"유니\":\"유니버스\", \"ㅋㅋ\":\"lol\", \"ㅋㅋㅋ\":\":)\"}\n",
    "b = \"유니버스 안의 사람들은ㅋㅋ 유니짜장을 먹으며ㅋㅋㅋ 유니버스를 시청했다.ㅋㅋㅋㅋㅋ\"\n",
    "\n",
    "sub_longest(a, b)"
   ]
  },
  {
   "cell_type": "code",
   "execution_count": null,
   "metadata": {},
   "outputs": [],
   "source": []
  }
 ],
 "metadata": {
  "kernelspec": {
   "display_name": "Python 3",
   "language": "python",
   "name": "python3"
  },
  "language_info": {
   "codemirror_mode": {
    "name": "ipython",
    "version": 3
   },
   "file_extension": ".py",
   "mimetype": "text/x-python",
   "name": "python",
   "nbconvert_exporter": "python",
   "pygments_lexer": "ipython3",
   "version": "3.6.9"
  }
 },
 "nbformat": 4,
 "nbformat_minor": 4
}
