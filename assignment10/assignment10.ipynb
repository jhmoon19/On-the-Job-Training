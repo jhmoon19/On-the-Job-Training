{
 "cells": [
  {
   "cell_type": "code",
   "execution_count": 1,
   "metadata": {},
   "outputs": [],
   "source": [
    "import re\n",
    "\n",
    "def tag_cnvs(src):\n",
    "    tag_num = 0\n",
    "    stack = []\n",
    "    src_copy = src\n",
    "    \n",
    "    for tag in re.findall(\"<.+?>\", src):\n",
    "        if re.match(\"</?li>|</?p>|<br>\", tag): continue\n",
    "        tag_copy = tag\n",
    "        if tag.startswith(\"</\"):\n",
    "            tag = \"</htag\" + str(stack.pop()) + \">\"\n",
    "        else:\n",
    "            tag_num += 1\n",
    "            stack.append(tag_num)\n",
    "            tag = \"<htag\" + str(stack[-1]) + \">\"\n",
    "        src_copy = src_copy.replace(tag_copy, tag, 1)\n",
    "    \n",
    "    return src_copy"
   ]
  },
  {
   "cell_type": "code",
   "execution_count": 3,
   "metadata": {},
   "outputs": [
    {
     "name": "stdout",
     "output_type": "stream",
     "text": [
      "<htag1>드디어 이번 이벤해서<htag2>올 축6 붉귀, 푸귀, 쌍체반 2개 6짤 만들었는데</htag2><htag3>창고에 썩던 걍 검귀 하나 질렀는데 다이렉트로 6 뜨네요;;; 축이 아니고 걍이라 이거 애매한데 ;;;;&nbsp;</htag3><htag4><br></htag4><htag5>이거 축6 만들라면 다음 이벤때 걍검귀 하나 또 6 만들고 합쳐야 하는데, 그돈씨 축5 사냥꾼 <htag6>팬던트</htag6> 6가고 말지요.</htag5><htag7>검귀가 사냥할때 도움되나요? &gt; 착용은 어차피 2개만 되니깐 3개중 2개만 쓰기도 하고 애매하네요;;;</htag7><htag8>논피서버고 은기사 <li>던전2층</li>이랑 <li>본던2층</li>, <li>버땅 사냥</li>만 갑니다. 89쪼렙 깡통기사라서요</htag8><p>댓글 미리 감사드립니다.</p></htag1>\n"
     ]
    }
   ],
   "source": [
    "a = '<div data-contents-type=\"text\">드디어 이번 이벤해서<div data-contents-type= \"text\">올 축6 붉귀, \\\n",
    "푸귀, 쌍체반 2개 6짤 만들었는데</div><div data-contents-type=\"text\">창고에 썩던 걍 검귀 하나 질렀는데 \\\n",
    "다이렉트로 6 뜨네요;;; 축이 아니고 걍이라 이거 애매한데 ;;;;&nbsp;</div><div data-contents-type=\"text\">\\\n",
    "<br></div><div data-contents-type=\"text\">이거 축6 만들라면 다음 이벤때 걍검귀 하나 또 6 만들고 합쳐야 하는데, \\\n",
    "그돈씨 축5 사냥꾼 <strong>팬던트</strong> 6가고 말지요.</div><div data-contents-type=\"text\">검귀가 사냥할때 도움되나요? \\\n",
    "&gt; 착용은 어차피 2개만 되니깐 3개중 2개만 쓰기도 하고 애매하네요;;;</div><div data-contents-type=\"text\">논피서버고 은기사 \\\n",
    "<li>던전2층</li>이랑 <li>본던2층</li>, <li>버땅 사냥</li>만 갑니다. 89쪼렙 깡통기사라서요</div><p>댓글 미리 감사드립니다.</p></div>'\n",
    "\n",
    "print(tag_cnvs(a))"
   ]
  },
  {
   "cell_type": "code",
   "execution_count": 28,
   "metadata": {},
   "outputs": [
    {
     "name": "stdout",
     "output_type": "stream",
     "text": [
      "<htag1>드디어 이번 이벤해서<htag2>올 축6 붉귀, 푸귀, 쌍체반 2개 6짤 만들었는데</htag2><htag3>창고에 썩던 걍 검귀 하나 질렀는데 다이렉트로 6 뜨네요;;; 축이 아니고 걍이라 이거 애매한데 ;;;;&nbsp;</htag3><htag4><br></htag4><htag5>이거 축6 만들라면 다음 이벤때 걍검귀 하나 또 6 만들고 합쳐야 하는데, 그돈씨 축5 사냥꾼 <htag6>팬던트</htag6> 6가고 말지요.</htag5><htag7>검귀가 사냥할때 도움되나요? &gt; 착용은 어차피 2개만 되니깐 3개중 2개만 쓰기도 하고 애매하네요;;;</htag7><htag8>논피서버고 은기사 <li>던전2층</li>이랑 <li>본던2층</li>, <li>버땅 사냥</li>만 갑니다. 89쪼렙 깡통기사라서요</htag8><p>댓글 미리 감사드립니다.</p></htag1>\n"
     ]
    }
   ],
   "source": [
    "import re\n",
    "\n",
    "c1 = 0\n",
    "ls = []\n",
    "d = a\n",
    "for i in re.findall(\"<.+?>\", a):\n",
    "    if re.match(\"</?li>|</?p>|<br>\", i):\n",
    "        continue\n",
    "    f = i\n",
    "    if i.startswith(\"</\"):\n",
    "        i = \"</htag\" + str(ls.pop()) + \">\"\n",
    "    else:\n",
    "        c1 += 1\n",
    "        ls.append(c1)\n",
    "        i = \"<htag\" + str(ls[-1]) + \">\"\n",
    "    \n",
    "    d = d.replace(f, i, 1)\n",
    "print(d)"
   ]
  }
 ],
 "metadata": {
  "kernelspec": {
   "display_name": "Python 3",
   "language": "python",
   "name": "python3"
  },
  "language_info": {
   "codemirror_mode": {
    "name": "ipython",
    "version": 3
   },
   "file_extension": ".py",
   "mimetype": "text/x-python",
   "name": "python",
   "nbconvert_exporter": "python",
   "pygments_lexer": "ipython3",
   "version": "3.6.9"
  }
 },
 "nbformat": 4,
 "nbformat_minor": 4
}
